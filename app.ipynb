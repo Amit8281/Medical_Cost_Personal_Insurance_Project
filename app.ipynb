{
 "cells": [
  {
   "cell_type": "code",
   "execution_count": 4,
   "id": "049fd467",
   "metadata": {},
   "outputs": [
    {
     "name": "stderr",
     "output_type": "stream",
     "text": [
      "D:\\jupyter\\lib\\site-packages\\gradio\\inputs.py:59: UserWarning: Usage of gradio.inputs is deprecated, and will not be supported in the future, please import your component from gradio.components\n",
      "  warnings.warn(\n",
      "D:\\jupyter\\lib\\site-packages\\gradio\\inputs.py:62: UserWarning: `optional` parameter is deprecated, and it has no effect\n",
      "  super().__init__(value=default, label=label, optional=optional)\n"
     ]
    },
    {
     "name": "stdout",
     "output_type": "stream",
     "text": [
      "Running on local URL:  http://127.0.0.1:7863\n",
      "\n",
      "To create a public link, set `share=True` in `launch()`.\n"
     ]
    },
    {
     "data": {
      "text/html": [
       "<div><iframe src=\"http://127.0.0.1:7863/\" width=\"100%\" height=\"500\" allow=\"autoplay; camera; microphone; clipboard-read; clipboard-write;\" frameborder=\"0\" allowfullscreen></iframe></div>"
      ],
      "text/plain": [
       "<IPython.core.display.HTML object>"
      ]
     },
     "metadata": {},
     "output_type": "display_data"
    },
    {
     "data": {
      "text/plain": []
     },
     "execution_count": 4,
     "metadata": {},
     "output_type": "execute_result"
    }
   ],
   "source": [
    "import pickle\n",
    "import pandas as pd\n",
    "import gradio as gr\n",
    "\n",
    "# Load the trained model\n",
    "model = pickle.load(open('XGBRegressor.pkl', 'rb'))\n",
    "\n",
    "def predict_insurance_cost(age, sex, bmi, children, smoker, region):\n",
    "    # Prepare the input data as a DataFrame\n",
    "    data = pd.DataFrame({\n",
    "        'age': [age],\n",
    "        'sex': [sex],\n",
    "        'bmi': [bmi],\n",
    "        'children': [children],\n",
    "        'smoker': [smoker],\n",
    "        'region': [region]\n",
    "    })\n",
    "\n",
    "    # Perform the prediction\n",
    "    prediction = model.predict(data)\n",
    "    return prediction\n",
    "\n",
    "# Create the input components\n",
    "input_components = [\n",
    "    gr.inputs.Number(label=\"Age\"),\n",
    "    gr.inputs.Number(label=\"Sex : (0=Female, 1=Male)\"),\n",
    "    gr.inputs.Number(label=\"BMI\"),\n",
    "    gr.inputs.Number(label=\"Number of Children\"),\n",
    "    gr.inputs.Number(label=\"Smoker : (0 = NO, 1 = YES)\"),\n",
    "    gr.inputs.Number(label=\"Region : (0=northeast, 1=northwest, 2=southeast, 3=southwest)\")\n",
    "]\n",
    "\n",
    "# Create the interface\n",
    "interface = gr.Interface(\n",
    "    fn=predict_insurance_cost,\n",
    "    inputs=input_components,\n",
    "    outputs=\"number\",\n",
    "    title=\"Insurance Cost Predictor\",\n",
    "    description=\"Predict whether the insurance cost will be high or low based on the given inputs.\"\n",
    ")\n",
    "\n",
    "# Launch the interface\n",
    "interface.launch()\n"
   ]
  },
  {
   "cell_type": "code",
   "execution_count": null,
   "id": "92d66c50",
   "metadata": {},
   "outputs": [],
   "source": []
  },
  {
   "cell_type": "code",
   "execution_count": null,
   "id": "fc726a3b",
   "metadata": {},
   "outputs": [],
   "source": []
  }
 ],
 "metadata": {
  "kernelspec": {
   "display_name": "Python 3 (ipykernel)",
   "language": "python",
   "name": "python3"
  },
  "language_info": {
   "codemirror_mode": {
    "name": "ipython",
    "version": 3
   },
   "file_extension": ".py",
   "mimetype": "text/x-python",
   "name": "python",
   "nbconvert_exporter": "python",
   "pygments_lexer": "ipython3",
   "version": "3.9.12"
  }
 },
 "nbformat": 4,
 "nbformat_minor": 5
}
